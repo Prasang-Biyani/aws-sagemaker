{
  "cells": [
    {
      "cell_type": "markdown",
      "metadata": {
        "id": "view-in-github",
        "colab_type": "text"
      },
      "source": [
        "<a href=\"https://colab.research.google.com/github/Prasang-Biyani/aws-sagemaker/blob/main/AWS_SageMaker.ipynb\" target=\"_parent\"><img src=\"https://colab.research.google.com/assets/colab-badge.svg\" alt=\"Open In Colab\"/></a>"
      ]
    },
    {
      "cell_type": "code",
      "execution_count": null,
      "id": "8c436963-afa1-454c-9275-a1ca109a4cbe",
      "metadata": {
        "tags": [],
        "id": "8c436963-afa1-454c-9275-a1ca109a4cbe"
      },
      "outputs": [],
      "source": [
        "import pandas as pd\n",
        "import numpy as np\n",
        "import matplotlib.pyplot as plt\n",
        "import sagemaker\n",
        "import boto3"
      ]
    },
    {
      "cell_type": "code",
      "execution_count": null,
      "id": "7721d237-76df-47c2-a947-175a55c5f88f",
      "metadata": {
        "tags": [],
        "id": "7721d237-76df-47c2-a947-175a55c5f88f",
        "outputId": "0776a493-d9c4-496b-b42b-eff885a8c41b"
      },
      "outputs": [
        {
          "name": "stdout",
          "output_type": "stream",
          "text": [
            "us-east-1\n"
          ]
        }
      ],
      "source": [
        "bucket_name = \"dsmlsagemaker-prasang\"\n",
        "# Check the region of the instance\n",
        "my_region = boto3.session.Session().region_name\n",
        "print(my_region)"
      ]
    },
    {
      "cell_type": "code",
      "execution_count": null,
      "id": "e30ee6c1-9f90-4357-91b4-80e2be7a464d",
      "metadata": {
        "tags": [],
        "id": "e30ee6c1-9f90-4357-91b4-80e2be7a464d",
        "outputId": "b3790a2b-89e9-483c-962a-a69000a20e3d"
      },
      "outputs": [
        {
          "name": "stdout",
          "output_type": "stream",
          "text": [
            "S3 Bucket Created Successfully!\n"
          ]
        }
      ],
      "source": [
        "# Create a bucket\n",
        "s3 = boto3.resource(\"s3\", \n",
        "                   region_name=my_region,\n",
        "                   aws_access_key_id=\"\",\n",
        "                   aws_secret_access_key=\"\")\n",
        "\n",
        "try:\n",
        "    if my_region == \"us-east-1\":\n",
        "        s3.create_bucket(Bucket=bucket_name)\n",
        "        print(\"S3 Bucket Created Successfully!\")\n",
        "except Exception as e:\n",
        "    print(str(e))\n",
        "    "
      ]
    },
    {
      "cell_type": "code",
      "execution_count": null,
      "id": "3eb7f357-4ae3-4d46-a13c-dad2d1ce5467",
      "metadata": {
        "tags": [],
        "id": "3eb7f357-4ae3-4d46-a13c-dad2d1ce5467",
        "outputId": "fdb144d3-89bb-48c8-a484-6abaf1fc9257"
      },
      "outputs": [
        {
          "name": "stdout",
          "output_type": "stream",
          "text": [
            "s3://dsmlsagemaker-prasang/xgboost-as-a-built-in-algo/output\n"
          ]
        }
      ],
      "source": [
        "## set an output path for model artifacts\n",
        "path = \"xgboost-as-a-built-in-algo\"\n",
        "output_path = f\"s3://{bucket_name}/{path}/output\"\n",
        "print(output_path)"
      ]
    },
    {
      "cell_type": "markdown",
      "id": "3771b3e3-d416-4555-b4e1-6c776b344508",
      "metadata": {
        "id": "3771b3e3-d416-4555-b4e1-6c776b344508"
      },
      "source": [
        "## Download the data and store in S3"
      ]
    },
    {
      "cell_type": "code",
      "execution_count": null,
      "id": "275ef361-0969-4898-b28f-6ff1d0266def",
      "metadata": {
        "tags": [],
        "id": "275ef361-0969-4898-b28f-6ff1d0266def",
        "outputId": "eef657c0-a005-4606-b4d9-85f83a9b7ef6"
      },
      "outputs": [
        {
          "name": "stdout",
          "output_type": "stream",
          "text": [
            "Success: downloaded bank_clean.csv.\n",
            "Success: Data loaded into dataframe.\n"
          ]
        }
      ],
      "source": [
        "import urllib\n",
        "try:\n",
        "    #the bank data is in one hot encoded format already\n",
        "        urllib.request.urlretrieve (\"https://d1.awsstatic.com/tmt/build-train-deploy-machine-learning-model-sagemaker/bank_clean.27f01fbbdf43271788427f3682996ae29ceca05d.csv\", \"bank_clean.csv\")\n",
        "        print('Success: downloaded bank_clean.csv.')\n",
        "except Exception as e:\n",
        "        print('Data load error: ',e) \n",
        "try:\n",
        "        model_data = pd.read_csv('./bank_clean.csv',index_col=0)\n",
        "        print('Success: Data loaded into dataframe.')\n",
        "except Exception as e:\n",
        "        print('Data load error: ',e)"
      ]
    },
    {
      "cell_type": "code",
      "execution_count": null,
      "id": "8039da29-803d-44b4-ad41-23e957b05fd3",
      "metadata": {
        "tags": [],
        "id": "8039da29-803d-44b4-ad41-23e957b05fd3",
        "outputId": "666db70c-d53b-4a32-d1f0-a6e685b8ff73"
      },
      "outputs": [
        {
          "data": {
            "text/html": [
              "<div>\n",
              "<style scoped>\n",
              "    .dataframe tbody tr th:only-of-type {\n",
              "        vertical-align: middle;\n",
              "    }\n",
              "\n",
              "    .dataframe tbody tr th {\n",
              "        vertical-align: top;\n",
              "    }\n",
              "\n",
              "    .dataframe thead th {\n",
              "        text-align: right;\n",
              "    }\n",
              "</style>\n",
              "<table border=\"1\" class=\"dataframe\">\n",
              "  <thead>\n",
              "    <tr style=\"text-align: right;\">\n",
              "      <th></th>\n",
              "      <th>age</th>\n",
              "      <th>campaign</th>\n",
              "      <th>pdays</th>\n",
              "      <th>previous</th>\n",
              "      <th>no_previous_contact</th>\n",
              "      <th>not_working</th>\n",
              "      <th>job_admin.</th>\n",
              "      <th>job_blue-collar</th>\n",
              "      <th>job_entrepreneur</th>\n",
              "      <th>job_housemaid</th>\n",
              "      <th>...</th>\n",
              "      <th>day_of_week_fri</th>\n",
              "      <th>day_of_week_mon</th>\n",
              "      <th>day_of_week_thu</th>\n",
              "      <th>day_of_week_tue</th>\n",
              "      <th>day_of_week_wed</th>\n",
              "      <th>poutcome_failure</th>\n",
              "      <th>poutcome_nonexistent</th>\n",
              "      <th>poutcome_success</th>\n",
              "      <th>y_no</th>\n",
              "      <th>y_yes</th>\n",
              "    </tr>\n",
              "  </thead>\n",
              "  <tbody>\n",
              "    <tr>\n",
              "      <th>0</th>\n",
              "      <td>56</td>\n",
              "      <td>1</td>\n",
              "      <td>999</td>\n",
              "      <td>0</td>\n",
              "      <td>1</td>\n",
              "      <td>0</td>\n",
              "      <td>0</td>\n",
              "      <td>0</td>\n",
              "      <td>0</td>\n",
              "      <td>1</td>\n",
              "      <td>...</td>\n",
              "      <td>0</td>\n",
              "      <td>1</td>\n",
              "      <td>0</td>\n",
              "      <td>0</td>\n",
              "      <td>0</td>\n",
              "      <td>0</td>\n",
              "      <td>1</td>\n",
              "      <td>0</td>\n",
              "      <td>1</td>\n",
              "      <td>0</td>\n",
              "    </tr>\n",
              "    <tr>\n",
              "      <th>1</th>\n",
              "      <td>57</td>\n",
              "      <td>1</td>\n",
              "      <td>999</td>\n",
              "      <td>0</td>\n",
              "      <td>1</td>\n",
              "      <td>0</td>\n",
              "      <td>0</td>\n",
              "      <td>0</td>\n",
              "      <td>0</td>\n",
              "      <td>0</td>\n",
              "      <td>...</td>\n",
              "      <td>0</td>\n",
              "      <td>1</td>\n",
              "      <td>0</td>\n",
              "      <td>0</td>\n",
              "      <td>0</td>\n",
              "      <td>0</td>\n",
              "      <td>1</td>\n",
              "      <td>0</td>\n",
              "      <td>1</td>\n",
              "      <td>0</td>\n",
              "    </tr>\n",
              "    <tr>\n",
              "      <th>2</th>\n",
              "      <td>37</td>\n",
              "      <td>1</td>\n",
              "      <td>999</td>\n",
              "      <td>0</td>\n",
              "      <td>1</td>\n",
              "      <td>0</td>\n",
              "      <td>0</td>\n",
              "      <td>0</td>\n",
              "      <td>0</td>\n",
              "      <td>0</td>\n",
              "      <td>...</td>\n",
              "      <td>0</td>\n",
              "      <td>1</td>\n",
              "      <td>0</td>\n",
              "      <td>0</td>\n",
              "      <td>0</td>\n",
              "      <td>0</td>\n",
              "      <td>1</td>\n",
              "      <td>0</td>\n",
              "      <td>1</td>\n",
              "      <td>0</td>\n",
              "    </tr>\n",
              "    <tr>\n",
              "      <th>3</th>\n",
              "      <td>40</td>\n",
              "      <td>1</td>\n",
              "      <td>999</td>\n",
              "      <td>0</td>\n",
              "      <td>1</td>\n",
              "      <td>0</td>\n",
              "      <td>1</td>\n",
              "      <td>0</td>\n",
              "      <td>0</td>\n",
              "      <td>0</td>\n",
              "      <td>...</td>\n",
              "      <td>0</td>\n",
              "      <td>1</td>\n",
              "      <td>0</td>\n",
              "      <td>0</td>\n",
              "      <td>0</td>\n",
              "      <td>0</td>\n",
              "      <td>1</td>\n",
              "      <td>0</td>\n",
              "      <td>1</td>\n",
              "      <td>0</td>\n",
              "    </tr>\n",
              "    <tr>\n",
              "      <th>4</th>\n",
              "      <td>56</td>\n",
              "      <td>1</td>\n",
              "      <td>999</td>\n",
              "      <td>0</td>\n",
              "      <td>1</td>\n",
              "      <td>0</td>\n",
              "      <td>0</td>\n",
              "      <td>0</td>\n",
              "      <td>0</td>\n",
              "      <td>0</td>\n",
              "      <td>...</td>\n",
              "      <td>0</td>\n",
              "      <td>1</td>\n",
              "      <td>0</td>\n",
              "      <td>0</td>\n",
              "      <td>0</td>\n",
              "      <td>0</td>\n",
              "      <td>1</td>\n",
              "      <td>0</td>\n",
              "      <td>1</td>\n",
              "      <td>0</td>\n",
              "    </tr>\n",
              "  </tbody>\n",
              "</table>\n",
              "<p>5 rows × 61 columns</p>\n",
              "</div>"
            ],
            "text/plain": [
              "   age  campaign  pdays  previous  no_previous_contact  not_working  \\\n",
              "0   56         1    999         0                    1            0   \n",
              "1   57         1    999         0                    1            0   \n",
              "2   37         1    999         0                    1            0   \n",
              "3   40         1    999         0                    1            0   \n",
              "4   56         1    999         0                    1            0   \n",
              "\n",
              "   job_admin.  job_blue-collar  job_entrepreneur  job_housemaid  ...  \\\n",
              "0           0                0                 0              1  ...   \n",
              "1           0                0                 0              0  ...   \n",
              "2           0                0                 0              0  ...   \n",
              "3           1                0                 0              0  ...   \n",
              "4           0                0                 0              0  ...   \n",
              "\n",
              "   day_of_week_fri  day_of_week_mon  day_of_week_thu  day_of_week_tue  \\\n",
              "0                0                1                0                0   \n",
              "1                0                1                0                0   \n",
              "2                0                1                0                0   \n",
              "3                0                1                0                0   \n",
              "4                0                1                0                0   \n",
              "\n",
              "   day_of_week_wed  poutcome_failure  poutcome_nonexistent  poutcome_success  \\\n",
              "0                0                 0                     1                 0   \n",
              "1                0                 0                     1                 0   \n",
              "2                0                 0                     1                 0   \n",
              "3                0                 0                     1                 0   \n",
              "4                0                 0                     1                 0   \n",
              "\n",
              "   y_no  y_yes  \n",
              "0     1      0  \n",
              "1     1      0  \n",
              "2     1      0  \n",
              "3     1      0  \n",
              "4     1      0  \n",
              "\n",
              "[5 rows x 61 columns]"
            ]
          },
          "execution_count": 41,
          "metadata": {},
          "output_type": "execute_result"
        }
      ],
      "source": [
        "model_data.head()"
      ]
    },
    {
      "cell_type": "code",
      "execution_count": null,
      "id": "332a9f7c-556d-4ced-ac81-5c1b51162417",
      "metadata": {
        "tags": [],
        "id": "332a9f7c-556d-4ced-ac81-5c1b51162417",
        "outputId": "a28f7c82-70e3-4525-b131-c5e8922f9cf6"
      },
      "outputs": [
        {
          "name": "stdout",
          "output_type": "stream",
          "text": [
            "<class 'pandas.core.frame.DataFrame'>\n",
            "Int64Index: 41188 entries, 0 to 41187\n",
            "Data columns (total 61 columns):\n",
            " #   Column                         Non-Null Count  Dtype\n",
            "---  ------                         --------------  -----\n",
            " 0   age                            41188 non-null  int64\n",
            " 1   campaign                       41188 non-null  int64\n",
            " 2   pdays                          41188 non-null  int64\n",
            " 3   previous                       41188 non-null  int64\n",
            " 4   no_previous_contact            41188 non-null  int64\n",
            " 5   not_working                    41188 non-null  int64\n",
            " 6   job_admin.                     41188 non-null  int64\n",
            " 7   job_blue-collar                41188 non-null  int64\n",
            " 8   job_entrepreneur               41188 non-null  int64\n",
            " 9   job_housemaid                  41188 non-null  int64\n",
            " 10  job_management                 41188 non-null  int64\n",
            " 11  job_retired                    41188 non-null  int64\n",
            " 12  job_self-employed              41188 non-null  int64\n",
            " 13  job_services                   41188 non-null  int64\n",
            " 14  job_student                    41188 non-null  int64\n",
            " 15  job_technician                 41188 non-null  int64\n",
            " 16  job_unemployed                 41188 non-null  int64\n",
            " 17  job_unknown                    41188 non-null  int64\n",
            " 18  marital_divorced               41188 non-null  int64\n",
            " 19  marital_married                41188 non-null  int64\n",
            " 20  marital_single                 41188 non-null  int64\n",
            " 21  marital_unknown                41188 non-null  int64\n",
            " 22  education_basic.4y             41188 non-null  int64\n",
            " 23  education_basic.6y             41188 non-null  int64\n",
            " 24  education_basic.9y             41188 non-null  int64\n",
            " 25  education_high.school          41188 non-null  int64\n",
            " 26  education_illiterate           41188 non-null  int64\n",
            " 27  education_professional.course  41188 non-null  int64\n",
            " 28  education_university.degree    41188 non-null  int64\n",
            " 29  education_unknown              41188 non-null  int64\n",
            " 30  default_no                     41188 non-null  int64\n",
            " 31  default_unknown                41188 non-null  int64\n",
            " 32  default_yes                    41188 non-null  int64\n",
            " 33  housing_no                     41188 non-null  int64\n",
            " 34  housing_unknown                41188 non-null  int64\n",
            " 35  housing_yes                    41188 non-null  int64\n",
            " 36  loan_no                        41188 non-null  int64\n",
            " 37  loan_unknown                   41188 non-null  int64\n",
            " 38  loan_yes                       41188 non-null  int64\n",
            " 39  contact_cellular               41188 non-null  int64\n",
            " 40  contact_telephone              41188 non-null  int64\n",
            " 41  month_apr                      41188 non-null  int64\n",
            " 42  month_aug                      41188 non-null  int64\n",
            " 43  month_dec                      41188 non-null  int64\n",
            " 44  month_jul                      41188 non-null  int64\n",
            " 45  month_jun                      41188 non-null  int64\n",
            " 46  month_mar                      41188 non-null  int64\n",
            " 47  month_may                      41188 non-null  int64\n",
            " 48  month_nov                      41188 non-null  int64\n",
            " 49  month_oct                      41188 non-null  int64\n",
            " 50  month_sep                      41188 non-null  int64\n",
            " 51  day_of_week_fri                41188 non-null  int64\n",
            " 52  day_of_week_mon                41188 non-null  int64\n",
            " 53  day_of_week_thu                41188 non-null  int64\n",
            " 54  day_of_week_tue                41188 non-null  int64\n",
            " 55  day_of_week_wed                41188 non-null  int64\n",
            " 56  poutcome_failure               41188 non-null  int64\n",
            " 57  poutcome_nonexistent           41188 non-null  int64\n",
            " 58  poutcome_success               41188 non-null  int64\n",
            " 59  y_no                           41188 non-null  int64\n",
            " 60  y_yes                          41188 non-null  int64\n",
            "dtypes: int64(61)\n",
            "memory usage: 19.5 MB\n"
          ]
        }
      ],
      "source": [
        "model_data.info()"
      ]
    },
    {
      "cell_type": "markdown",
      "id": "b1420e12-0ab4-4e7b-8b8f-ca10411f3514",
      "metadata": {
        "id": "b1420e12-0ab4-4e7b-8b8f-ca10411f3514"
      },
      "source": [
        "## Train and Test Split"
      ]
    },
    {
      "cell_type": "code",
      "execution_count": null,
      "id": "d1cc3aba-b34f-442b-8822-462b31002fac",
      "metadata": {
        "tags": [],
        "id": "d1cc3aba-b34f-442b-8822-462b31002fac"
      },
      "outputs": [],
      "source": [
        "from sklearn.model_selection import train_test_split\n",
        "\n",
        "train_data, test_data = train_test_split(model_data, test_size=0.3)"
      ]
    },
    {
      "cell_type": "code",
      "execution_count": null,
      "id": "b680644d-3697-4cee-9710-38397f5b89de",
      "metadata": {
        "tags": [],
        "id": "b680644d-3697-4cee-9710-38397f5b89de"
      },
      "outputs": [],
      "source": [
        "## saving training and testing data in s3 buckets\n",
        "import os\n",
        "pd.concat([train_data['y_yes'], train_data.drop(['y_no', 'y_yes'],\n",
        "axis = 1)],\n",
        "axis = 1).to_csv(\"train.csv\", index=False, header=False)"
      ]
    },
    {
      "cell_type": "code",
      "execution_count": null,
      "id": "509d33df-9a2c-4847-8a23-bb7889e72c33",
      "metadata": {
        "tags": [],
        "id": "509d33df-9a2c-4847-8a23-bb7889e72c33",
        "outputId": "3bdbd3a4-1d54-4965-e5bf-56f1a1060bcb"
      },
      "outputs": [
        {
          "name": "stderr",
          "output_type": "stream",
          "text": [
            "INFO:botocore.credentials:Found credentials from IAM Role: BaseNotebookInstanceEc2InstanceRole\n"
          ]
        }
      ],
      "source": [
        "boto3.Session().resource(\"s3\").Bucket(bucket_name).Object(os.path.join(path, \"train/train.csv\")).upload_file(\"train.csv\")"
      ]
    },
    {
      "cell_type": "code",
      "execution_count": null,
      "id": "163bcf90-7aa4-41d7-b790-3f94a505465c",
      "metadata": {
        "tags": [],
        "id": "163bcf90-7aa4-41d7-b790-3f94a505465c"
      },
      "outputs": [],
      "source": [
        "## now storing the training csv into a variable\n",
        "s3_input_train = sagemaker.TrainingInput(s3_data=f\"s3://{bucket_name}/{path}/train/\", content_type=\"csv\")"
      ]
    },
    {
      "cell_type": "code",
      "execution_count": null,
      "id": "14b988c2-e807-4b82-ab86-064ac66d4b51",
      "metadata": {
        "tags": [],
        "id": "14b988c2-e807-4b82-ab86-064ac66d4b51"
      },
      "outputs": [],
      "source": [
        "pd.concat([test_data['y_yes'], test_data.drop(['y_no', 'y_yes'],\n",
        "axis = 1)],\n",
        "axis = 1).to_csv(\"test.csv\", index=False, header=False)"
      ]
    },
    {
      "cell_type": "code",
      "execution_count": null,
      "id": "5508f1fa-07c2-41db-8728-1964d3c1feee",
      "metadata": {
        "tags": [],
        "id": "5508f1fa-07c2-41db-8728-1964d3c1feee",
        "outputId": "13c99d77-63fa-44f1-d67c-581192240834"
      },
      "outputs": [
        {
          "name": "stderr",
          "output_type": "stream",
          "text": [
            "INFO:botocore.credentials:Found credentials from IAM Role: BaseNotebookInstanceEc2InstanceRole\n"
          ]
        }
      ],
      "source": [
        "boto3.Session().resource(\"s3\").Bucket(bucket_name).Object(os.path.join(path, \"test/test.csv\")).upload_file(\"test.csv\")\n",
        "## now storing the training csv into a variable\n",
        "s3_input_test = sagemaker.TrainingInput(s3_data=f\"s3://{bucket_name}/{path}/test/\", content_type=\"csv\")"
      ]
    },
    {
      "cell_type": "markdown",
      "id": "37413d3a-eab0-43a4-a650-c1d6411cde6e",
      "metadata": {
        "id": "37413d3a-eab0-43a4-a650-c1d6411cde6e"
      },
      "source": [
        "## Building XGBoost-inbuild algo"
      ]
    },
    {
      "cell_type": "code",
      "execution_count": null,
      "id": "945764ca-2025-4d23-9e73-457b0290308c",
      "metadata": {
        "tags": [],
        "id": "945764ca-2025-4d23-9e73-457b0290308c"
      },
      "outputs": [],
      "source": [
        "from sagemaker.amazon.amazon_estimator import image_uris\n",
        "from sagemaker.session import s3_input, Session"
      ]
    },
    {
      "cell_type": "code",
      "execution_count": null,
      "id": "00ffeb83-0dd8-4cd0-9036-38ca23ea2d40",
      "metadata": {
        "tags": [],
        "id": "00ffeb83-0dd8-4cd0-9036-38ca23ea2d40",
        "outputId": "2fec7532-e1a6-4f97-d753-47d24ac94d95"
      },
      "outputs": [
        {
          "name": "stderr",
          "output_type": "stream",
          "text": [
            "INFO:sagemaker.image_uris:Ignoring unnecessary instance type: None.\n"
          ]
        }
      ],
      "source": [
        "container = image_uris.retrieve(\"xgboost\", boto3.Session().region_name, \"1.5-1\")"
      ]
    },
    {
      "cell_type": "code",
      "execution_count": null,
      "id": "8cc12158-aa48-4306-a600-abb7a540f3dd",
      "metadata": {
        "tags": [],
        "id": "8cc12158-aa48-4306-a600-abb7a540f3dd"
      },
      "outputs": [],
      "source": [
        "##initialise all the parameters \n",
        "hyperparameters = {\n",
        "\"max_depth\": \"5\",\n",
        "\"eta\": \"0.2\",\n",
        "\"gamma\":\"4\",\n",
        "\"min_child_weight\":\"6\",\n",
        "\"subsample\":\"0.7\",\n",
        "\"objective\":\"binary:logistic\",\n",
        "\"num_round\":50\n",
        "}"
      ]
    },
    {
      "cell_type": "code",
      "execution_count": null,
      "id": "05b18a5b-9148-46bb-a502-7b2455c2ee3d",
      "metadata": {
        "tags": [],
        "id": "05b18a5b-9148-46bb-a502-7b2455c2ee3d"
      },
      "outputs": [],
      "source": [
        "# create sagemaker estimator that calls the xgboost container\n",
        "estimator = sagemaker.estimator.Estimator(image_uri=container, \n",
        "                                         hyperparameters=hyperparameters,\n",
        "                                         role=sagemaker.get_execution_role(),\n",
        "                                         instance_count=1,\n",
        "                                         instance_type=\"ml.m5.2xlarge\",\n",
        "                                         volume_size=5,\n",
        "                                         output_path=output_path)"
      ]
    },
    {
      "cell_type": "code",
      "execution_count": null,
      "id": "6d3e01e8-1039-43e0-a26c-2a48e9e2b155",
      "metadata": {
        "tags": [],
        "id": "6d3e01e8-1039-43e0-a26c-2a48e9e2b155",
        "outputId": "66e9f423-4475-44ba-9bb3-dec828445bdd"
      },
      "outputs": [
        {
          "name": "stderr",
          "output_type": "stream",
          "text": [
            "INFO:sagemaker:Creating training-job with name: sagemaker-xgboost-2023-06-08-16-50-36-867\n"
          ]
        },
        {
          "name": "stdout",
          "output_type": "stream",
          "text": [
            "2023-06-08 16:50:40 Starting - Starting the training job...\n",
            "2023-06-08 16:50:55 Starting - Preparing the instances for training......\n",
            "2023-06-08 16:52:14 Downloading - Downloading input data\n",
            "2023-06-08 16:52:14 Training - Downloading the training image...\n",
            "2023-06-08 16:52:35 Training - Training image download completed. Training in progress...\u001b[34m[2023-06-08 16:52:54.214 ip-10-2-95-175.ec2.internal:7 INFO utils.py:28] RULE_JOB_STOP_SIGNAL_FILENAME: None\u001b[0m\n",
            "\u001b[34m[2023-06-08 16:52:54.283 ip-10-2-95-175.ec2.internal:7 INFO profiler_config_parser.py:111] User has disabled profiler.\u001b[0m\n",
            "\u001b[34m[2023-06-08:16:52:54:INFO] Imported framework sagemaker_xgboost_container.training\u001b[0m\n",
            "\u001b[34m[2023-06-08:16:52:54:INFO] Failed to parse hyperparameter objective value binary:logistic to Json.\u001b[0m\n",
            "\u001b[34mReturning the value itself\u001b[0m\n",
            "\u001b[34m[2023-06-08:16:52:54:INFO] No GPUs detected (normal if no gpus installed)\u001b[0m\n",
            "\u001b[34m[2023-06-08:16:52:54:INFO] Running XGBoost Sagemaker in algorithm mode\u001b[0m\n",
            "\u001b[34m[2023-06-08:16:52:54:INFO] Determined 0 GPU(s) available on the instance.\u001b[0m\n",
            "\u001b[34m[2023-06-08:16:52:54:INFO] Determined delimiter of CSV input is ','\u001b[0m\n",
            "\u001b[34m[2023-06-08:16:52:54:INFO] Determined delimiter of CSV input is ','\u001b[0m\n",
            "\u001b[34m[2023-06-08:16:52:54:INFO] files path: /opt/ml/input/data/train\u001b[0m\n",
            "\u001b[34m[2023-06-08:16:52:54:INFO] Determined delimiter of CSV input is ','\u001b[0m\n",
            "\u001b[34m[2023-06-08:16:52:54:INFO] files path: /opt/ml/input/data/validation\u001b[0m\n",
            "\u001b[34m[2023-06-08:16:52:54:INFO] Determined delimiter of CSV input is ','\u001b[0m\n",
            "\u001b[34m[2023-06-08:16:52:54:INFO] Single node training.\u001b[0m\n",
            "\u001b[34m[2023-06-08:16:52:54:INFO] Train matrix has 28831 rows and 59 columns\u001b[0m\n",
            "\u001b[34m[2023-06-08:16:52:54:INFO] Validation matrix has 12357 rows\u001b[0m\n",
            "\u001b[34m[2023-06-08 16:52:54.720 ip-10-2-95-175.ec2.internal:7 INFO json_config.py:92] Creating hook from json_config at /opt/ml/input/config/debughookconfig.json.\u001b[0m\n",
            "\u001b[34m[2023-06-08 16:52:54.721 ip-10-2-95-175.ec2.internal:7 INFO hook.py:206] tensorboard_dir has not been set for the hook. SMDebug will not be exporting tensorboard summaries.\u001b[0m\n",
            "\u001b[34m[2023-06-08 16:52:54.722 ip-10-2-95-175.ec2.internal:7 INFO hook.py:259] Saving to /opt/ml/output/tensors\u001b[0m\n",
            "\u001b[34m[2023-06-08 16:52:54.722 ip-10-2-95-175.ec2.internal:7 INFO state_store.py:77] The checkpoint config file /opt/ml/input/config/checkpointconfig.json does not exist.\u001b[0m\n",
            "\u001b[34m[2023-06-08:16:52:54:INFO] Debug hook created from config\u001b[0m\n",
            "\u001b[34m[16:52:54] WARNING: ../src/learner.cc:1115: Starting in XGBoost 1.3.0, the default evaluation metric used with the objective 'binary:logistic' was changed from 'error' to 'logloss'. Explicitly set eval_metric if you'd like to restore the old behavior.\u001b[0m\n",
            "\u001b[34m[2023-06-08 16:52:54.799 ip-10-2-95-175.ec2.internal:7 INFO hook.py:427] Monitoring the collections: metrics\u001b[0m\n",
            "\u001b[34m[2023-06-08 16:52:54.802 ip-10-2-95-175.ec2.internal:7 INFO hook.py:491] Hook is writing from the hook with pid: 7\u001b[0m\n",
            "\u001b[34m[0]#011train-logloss:0.57428#011validation-logloss:0.57330\u001b[0m\n",
            "\u001b[34m[1]#011train-logloss:0.49542#011validation-logloss:0.49375\u001b[0m\n",
            "\u001b[34m[2]#011train-logloss:0.43939#011validation-logloss:0.43713\u001b[0m\n",
            "\u001b[34m[3]#011train-logloss:0.40015#011validation-logloss:0.39731\u001b[0m\n",
            "\u001b[34m[4]#011train-logloss:0.37156#011validation-logloss:0.36851\u001b[0m\n",
            "\u001b[34m[5]#011train-logloss:0.34992#011validation-logloss:0.34684\u001b[0m\n",
            "\u001b[34m[6]#011train-logloss:0.33411#011validation-logloss:0.33079\u001b[0m\n",
            "\u001b[34m[7]#011train-logloss:0.32230#011validation-logloss:0.31873\u001b[0m\n",
            "\u001b[34m[8]#011train-logloss:0.31328#011validation-logloss:0.30944\u001b[0m\n",
            "\u001b[34m[9]#011train-logloss:0.30687#011validation-logloss:0.30285\u001b[0m\n",
            "\u001b[34m[10]#011train-logloss:0.30208#011validation-logloss:0.29787\u001b[0m\n",
            "\u001b[34m[11]#011train-logloss:0.29824#011validation-logloss:0.29425\u001b[0m\n",
            "\u001b[34m[12]#011train-logloss:0.29549#011validation-logloss:0.29142\u001b[0m\n",
            "\u001b[34m[13]#011train-logloss:0.29334#011validation-logloss:0.28951\u001b[0m\n",
            "\u001b[34m[14]#011train-logloss:0.29156#011validation-logloss:0.28759\u001b[0m\n",
            "\u001b[34m[15]#011train-logloss:0.29002#011validation-logloss:0.28623\u001b[0m\n",
            "\u001b[34m[16]#011train-logloss:0.28896#011validation-logloss:0.28525\u001b[0m\n",
            "\u001b[34m[17]#011train-logloss:0.28785#011validation-logloss:0.28464\u001b[0m\n",
            "\u001b[34m[18]#011train-logloss:0.28711#011validation-logloss:0.28403\u001b[0m\n",
            "\u001b[34m[19]#011train-logloss:0.28606#011validation-logloss:0.28331\u001b[0m\n",
            "\u001b[34m[20]#011train-logloss:0.28546#011validation-logloss:0.28283\u001b[0m\n",
            "\u001b[34m[21]#011train-logloss:0.28482#011validation-logloss:0.28255\u001b[0m\n",
            "\u001b[34m[22]#011train-logloss:0.28445#011validation-logloss:0.28218\u001b[0m\n",
            "\u001b[34m[23]#011train-logloss:0.28360#011validation-logloss:0.28154\u001b[0m\n",
            "\u001b[34m[24]#011train-logloss:0.28319#011validation-logloss:0.28148\u001b[0m\n",
            "\u001b[34m[25]#011train-logloss:0.28266#011validation-logloss:0.28155\u001b[0m\n",
            "\u001b[34m[26]#011train-logloss:0.28223#011validation-logloss:0.28107\u001b[0m\n",
            "\u001b[34m[27]#011train-logloss:0.28208#011validation-logloss:0.28106\u001b[0m\n",
            "\u001b[34m[28]#011train-logloss:0.28179#011validation-logloss:0.28102\u001b[0m\n",
            "\u001b[34m[29]#011train-logloss:0.28158#011validation-logloss:0.28087\u001b[0m\n",
            "\u001b[34m[30]#011train-logloss:0.28133#011validation-logloss:0.28070\u001b[0m\n",
            "\u001b[34m[31]#011train-logloss:0.28119#011validation-logloss:0.28057\u001b[0m\n",
            "\u001b[34m[32]#011train-logloss:0.28093#011validation-logloss:0.28066\u001b[0m\n",
            "\u001b[34m[33]#011train-logloss:0.28046#011validation-logloss:0.28070\u001b[0m\n",
            "\u001b[34m[34]#011train-logloss:0.28036#011validation-logloss:0.28076\u001b[0m\n",
            "\u001b[34m[35]#011train-logloss:0.28011#011validation-logloss:0.28081\u001b[0m\n",
            "\u001b[34m[36]#011train-logloss:0.27984#011validation-logloss:0.28091\u001b[0m\n",
            "\u001b[34m[37]#011train-logloss:0.27935#011validation-logloss:0.28062\u001b[0m\n",
            "\u001b[34m[38]#011train-logloss:0.27918#011validation-logloss:0.28051\u001b[0m\n",
            "\u001b[34m[39]#011train-logloss:0.27897#011validation-logloss:0.28065\u001b[0m\n",
            "\u001b[34m[40]#011train-logloss:0.27889#011validation-logloss:0.28070\u001b[0m\n",
            "\u001b[34m[41]#011train-logloss:0.27871#011validation-logloss:0.28066\u001b[0m\n",
            "\u001b[34m[42]#011train-logloss:0.27860#011validation-logloss:0.28077\u001b[0m\n",
            "\u001b[34m[43]#011train-logloss:0.27860#011validation-logloss:0.28077\u001b[0m\n",
            "\u001b[34m[44]#011train-logloss:0.27829#011validation-logloss:0.28093\u001b[0m\n",
            "\u001b[34m[45]#011train-logloss:0.27808#011validation-logloss:0.28091\u001b[0m\n",
            "\u001b[34m[46]#011train-logloss:0.27801#011validation-logloss:0.28085\u001b[0m\n",
            "\u001b[34m[47]#011train-logloss:0.27786#011validation-logloss:0.28088\u001b[0m\n",
            "\u001b[34m[48]#011train-logloss:0.27779#011validation-logloss:0.28085\u001b[0m\n",
            "\u001b[34m[49]#011train-logloss:0.27756#011validation-logloss:0.28106\u001b[0m\n",
            "\n",
            "2023-06-08 16:53:16 Uploading - Uploading generated training model\n",
            "2023-06-08 16:53:16 Completed - Training job completed\n",
            "Training seconds: 82\n",
            "Billable seconds: 82\n"
          ]
        }
      ],
      "source": [
        "estimator.fit({\"train\":s3_input_train, \"validation\":s3_input_test})"
      ]
    },
    {
      "cell_type": "markdown",
      "id": "550b55e8-6f11-4643-b0e1-a0465e0f8d68",
      "metadata": {
        "id": "550b55e8-6f11-4643-b0e1-a0465e0f8d68"
      },
      "source": [
        "## Deploying the ML Model as an endpoint"
      ]
    },
    {
      "cell_type": "code",
      "execution_count": null,
      "id": "d5801e3e-a924-4422-84c9-de93827d25f8",
      "metadata": {
        "tags": [],
        "id": "d5801e3e-a924-4422-84c9-de93827d25f8",
        "outputId": "49613511-3aba-4db0-b92c-bbb010540176"
      },
      "outputs": [
        {
          "name": "stderr",
          "output_type": "stream",
          "text": [
            "INFO:sagemaker:Creating model with name: sagemaker-xgboost-2023-06-08-16-53-29-875\n",
            "INFO:sagemaker:Creating endpoint-config with name sagemaker-xgboost-2023-06-08-16-53-29-875\n",
            "INFO:sagemaker:Creating endpoint with name sagemaker-xgboost-2023-06-08-16-53-29-875\n"
          ]
        },
        {
          "name": "stdout",
          "output_type": "stream",
          "text": [
            "-------!"
          ]
        }
      ],
      "source": [
        "from sagemaker.serializers import CSVSerializer \n",
        "xgb_predictor = estimator.deploy(initial_instance_count = 1, instance_type=\"ml.m4.xlarge\", serializer=CSVSerializer())"
      ]
    },
    {
      "cell_type": "markdown",
      "id": "fdbfd854-3489-49fd-a0a7-5016ae0079ae",
      "metadata": {
        "id": "fdbfd854-3489-49fd-a0a7-5016ae0079ae"
      },
      "source": [
        "## Prediction of test data"
      ]
    },
    {
      "cell_type": "code",
      "execution_count": null,
      "id": "82d7c25f-d9c5-4355-80df-6b83c19bb2f1",
      "metadata": {
        "tags": [],
        "id": "82d7c25f-d9c5-4355-80df-6b83c19bb2f1",
        "outputId": "8345be11-9d16-4c21-efaf-7e9c52f8a824"
      },
      "outputs": [
        {
          "data": {
            "text/plain": [
              "array([[ 34,   4, 999, ...,   0,   1,   0],\n",
              "       [ 31,   6, 999, ...,   0,   1,   0],\n",
              "       [ 32,   1, 999, ...,   0,   1,   0],\n",
              "       ...,\n",
              "       [ 36,   3, 999, ...,   0,   1,   0],\n",
              "       [ 47,   3, 999, ...,   0,   1,   0],\n",
              "       [ 39,   8, 999, ...,   0,   1,   0]])"
            ]
          },
          "execution_count": 55,
          "metadata": {},
          "output_type": "execute_result"
        }
      ],
      "source": [
        "test_data_array = test_data.drop(['y_yes', 'y_no'], axis=1).values\n",
        "test_data_array"
      ]
    },
    {
      "cell_type": "code",
      "execution_count": null,
      "id": "31843c08-a7b8-438c-8370-46c48626b11f",
      "metadata": {
        "tags": [],
        "id": "31843c08-a7b8-438c-8370-46c48626b11f"
      },
      "outputs": [],
      "source": [
        "predictions = xgb_predictor.predict(test_data_array).decode(\"utf-8\")"
      ]
    },
    {
      "cell_type": "code",
      "execution_count": null,
      "id": "46bcd959-2951-4329-b211-279a84b174f1",
      "metadata": {
        "tags": [],
        "id": "46bcd959-2951-4329-b211-279a84b174f1",
        "outputId": "fdf0fc9c-48c2-4c8b-d02e-5c159c140643"
      },
      "outputs": [
        {
          "data": {
            "text/plain": [
              "array([0.08596137, 0.08066913, 0.2411833 , ..., 0.10747377, 0.07555814,\n",
              "       0.03684008])"
            ]
          },
          "execution_count": 57,
          "metadata": {},
          "output_type": "execute_result"
        }
      ],
      "source": [
        "predictions_array = np.fromstring(predictions[:], sep=\"\\n\")\n",
        "predictions_array"
      ]
    },
    {
      "cell_type": "code",
      "execution_count": null,
      "id": "8f049870-18b8-472b-9ecd-e65be3e08922",
      "metadata": {
        "id": "8f049870-18b8-472b-9ecd-e65be3e08922",
        "outputId": "d8709a5b-c1d6-4dd7-b297-0555f58be0be"
      },
      "outputs": [
        {
          "name": "stdout",
          "output_type": "stream",
          "text": [
            "[[10828   163]\n",
            " [ 1076   290]]\n",
            "              precision    recall  f1-score   support\n",
            "\n",
            "           0       0.91      0.99      0.95     10991\n",
            "           1       0.64      0.21      0.32      1366\n",
            "\n",
            "    accuracy                           0.90     12357\n",
            "   macro avg       0.77      0.60      0.63     12357\n",
            "weighted avg       0.88      0.90      0.88     12357\n",
            "\n"
          ]
        }
      ],
      "source": [
        "import sklearn.metrics\n",
        "cutoff=0.5\n",
        "print(sklearn.metrics.confusion_matrix(test_data['y_yes'],np.round(predictions_array)))\n",
        "print(sklearn.metrics.classification_report(test_data['y_yes'],np.round(predictions_array)))"
      ]
    },
    {
      "cell_type": "code",
      "execution_count": null,
      "id": "f2efc2f5-b86f-4ff2-a429-3524f045f79f",
      "metadata": {
        "id": "f2efc2f5-b86f-4ff2-a429-3524f045f79f",
        "outputId": "1221010c-6e00-485a-c0aa-5a7831cbd74d"
      },
      "outputs": [
        {
          "data": {
            "text/plain": [
              "'sagemaker-xgboost-2023-06-08-16-53-29-875'"
            ]
          },
          "execution_count": 59,
          "metadata": {},
          "output_type": "execute_result"
        }
      ],
      "source": [
        "xgb_predictor.endpoint_name"
      ]
    },
    {
      "cell_type": "code",
      "execution_count": null,
      "id": "5963d98c-3fbd-475d-99ee-17886bf2543a",
      "metadata": {
        "id": "5963d98c-3fbd-475d-99ee-17886bf2543a",
        "outputId": "c54c3685-8101-4905-a862-51362df24d23"
      },
      "outputs": [
        {
          "name": "stderr",
          "output_type": "stream",
          "text": [
            "WARNING:sagemaker.deprecations:The endpoint attribute has been renamed in sagemaker>=2.\n",
            "See: https://sagemaker.readthedocs.io/en/stable/v2.html for details.\n",
            "INFO:sagemaker:Deleting endpoint with name: sagemaker-xgboost-2023-06-08-16-53-29-875\n"
          ]
        }
      ],
      "source": [
        "sagemaker.Session().delete_endpoint(xgb_predictor.endpoint)\n",
        "bucket_to_delete = boto3.resource('s3').Bucket(bucket_name)"
      ]
    },
    {
      "cell_type": "code",
      "execution_count": null,
      "id": "1cbb5a75-f0d7-4c6f-8a3e-e7737d3c0c4f",
      "metadata": {
        "tags": [],
        "id": "1cbb5a75-f0d7-4c6f-8a3e-e7737d3c0c4f",
        "outputId": "45df1f88-4d5f-4bbd-c9a6-1bb0daeff769"
      },
      "outputs": [
        {
          "data": {
            "text/plain": [
              "[{'ResponseMetadata': {'RequestId': '3ZFZK6BFTT1TP8MY',\n",
              "   'HostId': 'oGJmvH3ZJE/pzZ8b4ipnm20ms75AFSLBPaOYYV9qlTBwihvWdnULVLgtk+xQdk9hJrFeFaEBz5E=',\n",
              "   'HTTPStatusCode': 200,\n",
              "   'HTTPHeaders': {'x-amz-id-2': 'oGJmvH3ZJE/pzZ8b4ipnm20ms75AFSLBPaOYYV9qlTBwihvWdnULVLgtk+xQdk9hJrFeFaEBz5E=',\n",
              "    'x-amz-request-id': '3ZFZK6BFTT1TP8MY',\n",
              "    'date': 'Thu, 08 Jun 2023 16:57:35 GMT',\n",
              "    'content-type': 'application/xml',\n",
              "    'transfer-encoding': 'chunked',\n",
              "    'server': 'AmazonS3',\n",
              "    'connection': 'close'},\n",
              "   'RetryAttempts': 0},\n",
              "  'Deleted': [{'Key': 'xgboost-as-a-built-in-algo/output/sagemaker-xgboost-2023-06-08-16-50-36-867/debug-output/index/000000000/000000000030_worker_0.json'},\n",
              "   {'Key': 'xgboost-as-a-built-in-algo/output/sagemaker-xgboost-2023-06-08-16-50-36-867/debug-output/claim.smd'},\n",
              "   {'Key': 'xgboost-as-a-built-in-algo/output/sagemaker-xgboost-2023-06-08-16-50-36-867/debug-output/index/000000000/000000000010_worker_0.json'},\n",
              "   {'Key': 'xgboost-as-a-built-in-algo/output/sagemaker-xgboost-2023-06-08-16-50-36-867/debug-output/events/000000000020/000000000020_worker_0.tfevents'},\n",
              "   {'Key': 'xgboost-as-a-built-in-algo/output/sagemaker-xgboost-2023-06-08-16-50-36-867/profiler-output/system/incremental/2023060816/1686243120.algo-1.json'},\n",
              "   {'Key': 'xgboost-as-a-built-in-algo/output/sagemaker-xgboost-2023-06-08-16-50-36-867/debug-output/events/000000000000/000000000000_worker_0.tfevents'},\n",
              "   {'Key': 'xgboost-as-a-built-in-algo/output/sagemaker-xgboost-2023-06-08-16-50-36-867/profiler-output/system/training_job_end.ts'},\n",
              "   {'Key': 'xgboost-as-a-built-in-algo/output/sagemaker-xgboost-2023-06-08-16-50-36-867/debug-output/training_job_end.ts'},\n",
              "   {'Key': 'xgboost-as-a-built-in-algo/output/sagemaker-xgboost-2023-06-08-16-50-36-867/debug-output/index/000000000/000000000000_worker_0.json'},\n",
              "   {'Key': 'xgboost-as-a-built-in-algo/output/sagemaker-xgboost-2023-06-08-16-50-36-867/debug-output/index/000000000/000000000020_worker_0.json'},\n",
              "   {'Key': 'xgboost-as-a-built-in-algo/output/sagemaker-xgboost-2023-06-08-16-50-36-867/debug-output/index/000000000/000000000040_worker_0.json'},\n",
              "   {'Key': 'xgboost-as-a-built-in-algo/output/sagemaker-xgboost-2023-06-08-16-50-36-867/debug-output/collections/000000000/worker_0_collections.json'},\n",
              "   {'Key': 'xgboost-as-a-built-in-algo/output/sagemaker-xgboost-2023-06-08-16-50-36-867/output/model.tar.gz'},\n",
              "   {'Key': 'xgboost-as-a-built-in-algo/output/sagemaker-xgboost-2023-06-08-16-50-36-867/debug-output/events/000000000040/000000000040_worker_0.tfevents'},\n",
              "   {'Key': 'xgboost-as-a-built-in-algo/output/sagemaker-xgboost-2023-06-08-16-50-36-867/profiler-output/system/incremental/2023060816/1686243180.algo-1.json'},\n",
              "   {'Key': 'xgboost-as-a-built-in-algo/test/test.csv'},\n",
              "   {'Key': 'xgboost-as-a-built-in-algo/output/sagemaker-xgboost-2023-06-08-16-50-36-867/profiler-output/framework/training_job_end.ts'},\n",
              "   {'Key': 'xgboost-as-a-built-in-algo/output/sagemaker-xgboost-2023-06-08-16-50-36-867/debug-output/events/000000000010/000000000010_worker_0.tfevents'},\n",
              "   {'Key': 'xgboost-as-a-built-in-algo/train/train.csv'},\n",
              "   {'Key': 'xgboost-as-a-built-in-algo/output/sagemaker-xgboost-2023-06-08-16-50-36-867/profiler-output/system/incremental/2023060816/1686243060.algo-1.json'},\n",
              "   {'Key': 'xgboost-as-a-built-in-algo/output/sagemaker-xgboost-2023-06-08-16-50-36-867/debug-output/events/000000000030/000000000030_worker_0.tfevents'}]}]"
            ]
          },
          "execution_count": 61,
          "metadata": {},
          "output_type": "execute_result"
        }
      ],
      "source": [
        "bucket_to_delete.objects.all().delete()"
      ]
    },
    {
      "cell_type": "code",
      "execution_count": null,
      "id": "43110ec1-844b-413f-b52e-42668eb1f436",
      "metadata": {
        "id": "43110ec1-844b-413f-b52e-42668eb1f436"
      },
      "outputs": [],
      "source": []
    }
  ],
  "metadata": {
    "kernelspec": {
      "display_name": "conda_python3",
      "language": "python",
      "name": "conda_python3"
    },
    "language_info": {
      "codemirror_mode": {
        "name": "ipython",
        "version": 3
      },
      "file_extension": ".py",
      "mimetype": "text/x-python",
      "name": "python",
      "nbconvert_exporter": "python",
      "pygments_lexer": "ipython3",
      "version": "3.10.8"
    },
    "colab": {
      "provenance": [],
      "include_colab_link": true
    }
  },
  "nbformat": 4,
  "nbformat_minor": 5
}